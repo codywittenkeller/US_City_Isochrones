{
 "cells": [
  {
   "cell_type": "markdown",
   "id": "dominant-medicaid",
   "metadata": {},
   "source": [
    "# US City Isochrones using Google Maps API and CARTO Isolines\n",
    "\n",
    "This note book will do the following:\n",
    "\n",
    "1. Take a list of the largest US Cities by Population (pulled from here:\n",
    "https://gist.github.com/Miserlou/11500b2345d3fe850c92)\n",
    "\n",
    "\n",
    "2. Find the Lat/Lon Coordinates of each \"Downtown\" using the Google Maps Geocode API: https://developers.google.com/maps/documentation/geocoding/start\n",
    "\n",
    "\n",
    "3. Calculate what a 60 Minute Isochrone from the downtown Pin Location using CARTO Isolines:\n",
    "https://carto.com/help/glossary/#isolines\n",
    "\n",
    "\n",
    "4. Display those Isochrone shapes in a Kepler Map (My preferred Mapping Tool) "
   ]
  },
  {
   "cell_type": "code",
   "execution_count": 1,
   "id": "crucial-monaco",
   "metadata": {},
   "outputs": [],
   "source": [
    "#import python libraries\n",
    "\n",
    "import pandas as pd\n",
    "import shapely\n",
    "import geopandas as gpd\n",
    "import numpy as np\n",
    "import geog\n",
    "from shapely import geometry\n",
    "from shapely.geometry import Polygon, shape\n",
    "import googlemaps\n",
    "import os\n",
    "import keplergl\n",
    "import json\n",
    "from datetime import date"
   ]
  },
  {
   "cell_type": "code",
   "execution_count": 2,
   "id": "unknown-latitude",
   "metadata": {},
   "outputs": [],
   "source": [
    "# import carto libraries\n",
    "from cartoframes.data.services import Isolines\n",
    "from cartoframes.auth import Credentials, set_default_credentials\n",
    "\n",
    "# import personal account credentials\n",
    "set_default_credentials('creds.json')"
   ]
  },
  {
   "cell_type": "code",
   "execution_count": 3,
   "id": "level-discount",
   "metadata": {},
   "outputs": [],
   "source": [
    "# initialize google maps connection\n",
    "# this will be utilized to geocode lat and lon coordinates \n",
    "gmaps = googlemaps.Client(key=os.environ.get(\"GOOGLE_MAPS_API_KEY\", \"\"))"
   ]
  },
  {
   "cell_type": "code",
   "execution_count": 4,
   "id": "baking-legislation",
   "metadata": {},
   "outputs": [],
   "source": [
    "# call the cartogropher function Isolines\n",
    "iso_service = Isolines()"
   ]
  },
  {
   "cell_type": "markdown",
   "id": "joint-beads",
   "metadata": {},
   "source": [
    "## 1. Generate List of Cities\n",
    "\n",
    "Create a list of top 20 US Cities by population and create corresponding data frame to store future information"
   ]
  },
  {
   "cell_type": "code",
   "execution_count": 5,
   "id": "bright-applicant",
   "metadata": {},
   "outputs": [],
   "source": [
    "largest_us_cities_list = ['Downtown New York City, NY',\n",
    "                          'Downtown Los Angeles, CA',\n",
    "                          'Downtown Chicago, IL',\n",
    "                          'Downtown Houston, TX',\n",
    "                          'Downtown Phoenix, AZ',\n",
    "                          'Downtown Philadelphia, PA',\n",
    "                          'Downtown San Antonio, TX',\n",
    "                          'Downtown San Dieog, CA',\n",
    "                          'Downtown Dallas, TX',\n",
    "                          'Downtown Austin, TX',\n",
    "                          'Downtown San Jose, CA',\n",
    "                          'Downtown Fort Worth, TX',\n",
    "                          'Downtown Jacksonville, FL',\n",
    "                          'Downtown Columbus, OH',\n",
    "                          'Downtown Charlotte, NC',\n",
    "                          'Downtown Indianapolis, IN',\n",
    "                          'Downtown San Francisco, CA',\n",
    "                          'Downtown Seattle, WA',\n",
    "                          'Downtown Denver, CO',\n",
    "                          'Downtown Washinton, DC',\n",
    "                         ]"
   ]
  },
  {
   "cell_type": "code",
   "execution_count": 6,
   "id": "thrown-paintball",
   "metadata": {},
   "outputs": [],
   "source": [
    "# create data frame to store location data\n",
    "largest_us_cities_df = pd.DataFrame()\n",
    "\n",
    "largest_us_cities_df['city'] = largest_us_cities_list\n",
    "\n",
    "#initialize columns as floats\n",
    "largest_us_cities_df['lat'] = 0.0000000000000000000\n",
    "largest_us_cities_df['lon'] = 0.0000000000000000000"
   ]
  },
  {
   "cell_type": "code",
   "execution_count": 7,
   "id": "handed-delta",
   "metadata": {},
   "outputs": [
    {
     "data": {
      "text/html": [
       "<div>\n",
       "<style scoped>\n",
       "    .dataframe tbody tr th:only-of-type {\n",
       "        vertical-align: middle;\n",
       "    }\n",
       "\n",
       "    .dataframe tbody tr th {\n",
       "        vertical-align: top;\n",
       "    }\n",
       "\n",
       "    .dataframe thead th {\n",
       "        text-align: right;\n",
       "    }\n",
       "</style>\n",
       "<table border=\"1\" class=\"dataframe\">\n",
       "  <thead>\n",
       "    <tr style=\"text-align: right;\">\n",
       "      <th></th>\n",
       "      <th>city</th>\n",
       "      <th>lat</th>\n",
       "      <th>lon</th>\n",
       "    </tr>\n",
       "  </thead>\n",
       "  <tbody>\n",
       "    <tr>\n",
       "      <th>0</th>\n",
       "      <td>Downtown New York City, NY</td>\n",
       "      <td>0.0</td>\n",
       "      <td>0.0</td>\n",
       "    </tr>\n",
       "    <tr>\n",
       "      <th>1</th>\n",
       "      <td>Downtown Los Angeles, CA</td>\n",
       "      <td>0.0</td>\n",
       "      <td>0.0</td>\n",
       "    </tr>\n",
       "    <tr>\n",
       "      <th>2</th>\n",
       "      <td>Downtown Chicago, IL</td>\n",
       "      <td>0.0</td>\n",
       "      <td>0.0</td>\n",
       "    </tr>\n",
       "    <tr>\n",
       "      <th>3</th>\n",
       "      <td>Downtown Houston, TX</td>\n",
       "      <td>0.0</td>\n",
       "      <td>0.0</td>\n",
       "    </tr>\n",
       "    <tr>\n",
       "      <th>4</th>\n",
       "      <td>Downtown Phoenix, AZ</td>\n",
       "      <td>0.0</td>\n",
       "      <td>0.0</td>\n",
       "    </tr>\n",
       "    <tr>\n",
       "      <th>5</th>\n",
       "      <td>Downtown Philadelphia, PA</td>\n",
       "      <td>0.0</td>\n",
       "      <td>0.0</td>\n",
       "    </tr>\n",
       "    <tr>\n",
       "      <th>6</th>\n",
       "      <td>Downtown San Antonio, TX</td>\n",
       "      <td>0.0</td>\n",
       "      <td>0.0</td>\n",
       "    </tr>\n",
       "    <tr>\n",
       "      <th>7</th>\n",
       "      <td>Downtown San Dieog, CA</td>\n",
       "      <td>0.0</td>\n",
       "      <td>0.0</td>\n",
       "    </tr>\n",
       "    <tr>\n",
       "      <th>8</th>\n",
       "      <td>Downtown Dallas, TX</td>\n",
       "      <td>0.0</td>\n",
       "      <td>0.0</td>\n",
       "    </tr>\n",
       "    <tr>\n",
       "      <th>9</th>\n",
       "      <td>Downtown Austin, TX</td>\n",
       "      <td>0.0</td>\n",
       "      <td>0.0</td>\n",
       "    </tr>\n",
       "    <tr>\n",
       "      <th>10</th>\n",
       "      <td>Downtown San Jose, CA</td>\n",
       "      <td>0.0</td>\n",
       "      <td>0.0</td>\n",
       "    </tr>\n",
       "    <tr>\n",
       "      <th>11</th>\n",
       "      <td>Downtown Fort Worth, TX</td>\n",
       "      <td>0.0</td>\n",
       "      <td>0.0</td>\n",
       "    </tr>\n",
       "    <tr>\n",
       "      <th>12</th>\n",
       "      <td>Downtown Jacksonville, FL</td>\n",
       "      <td>0.0</td>\n",
       "      <td>0.0</td>\n",
       "    </tr>\n",
       "    <tr>\n",
       "      <th>13</th>\n",
       "      <td>Downtown Columbus, OH</td>\n",
       "      <td>0.0</td>\n",
       "      <td>0.0</td>\n",
       "    </tr>\n",
       "    <tr>\n",
       "      <th>14</th>\n",
       "      <td>Downtown Charlotte, NC</td>\n",
       "      <td>0.0</td>\n",
       "      <td>0.0</td>\n",
       "    </tr>\n",
       "    <tr>\n",
       "      <th>15</th>\n",
       "      <td>Downtown Indianapolis, IN</td>\n",
       "      <td>0.0</td>\n",
       "      <td>0.0</td>\n",
       "    </tr>\n",
       "    <tr>\n",
       "      <th>16</th>\n",
       "      <td>Downtown San Francisco, CA</td>\n",
       "      <td>0.0</td>\n",
       "      <td>0.0</td>\n",
       "    </tr>\n",
       "    <tr>\n",
       "      <th>17</th>\n",
       "      <td>Downtown Seattle, WA</td>\n",
       "      <td>0.0</td>\n",
       "      <td>0.0</td>\n",
       "    </tr>\n",
       "    <tr>\n",
       "      <th>18</th>\n",
       "      <td>Downtown Denver, CO</td>\n",
       "      <td>0.0</td>\n",
       "      <td>0.0</td>\n",
       "    </tr>\n",
       "    <tr>\n",
       "      <th>19</th>\n",
       "      <td>Downtown Washinton, DC</td>\n",
       "      <td>0.0</td>\n",
       "      <td>0.0</td>\n",
       "    </tr>\n",
       "  </tbody>\n",
       "</table>\n",
       "</div>"
      ],
      "text/plain": [
       "                          city  lat  lon\n",
       "0   Downtown New York City, NY  0.0  0.0\n",
       "1     Downtown Los Angeles, CA  0.0  0.0\n",
       "2         Downtown Chicago, IL  0.0  0.0\n",
       "3         Downtown Houston, TX  0.0  0.0\n",
       "4         Downtown Phoenix, AZ  0.0  0.0\n",
       "5    Downtown Philadelphia, PA  0.0  0.0\n",
       "6     Downtown San Antonio, TX  0.0  0.0\n",
       "7       Downtown San Dieog, CA  0.0  0.0\n",
       "8          Downtown Dallas, TX  0.0  0.0\n",
       "9          Downtown Austin, TX  0.0  0.0\n",
       "10       Downtown San Jose, CA  0.0  0.0\n",
       "11     Downtown Fort Worth, TX  0.0  0.0\n",
       "12   Downtown Jacksonville, FL  0.0  0.0\n",
       "13       Downtown Columbus, OH  0.0  0.0\n",
       "14      Downtown Charlotte, NC  0.0  0.0\n",
       "15   Downtown Indianapolis, IN  0.0  0.0\n",
       "16  Downtown San Francisco, CA  0.0  0.0\n",
       "17        Downtown Seattle, WA  0.0  0.0\n",
       "18         Downtown Denver, CO  0.0  0.0\n",
       "19      Downtown Washinton, DC  0.0  0.0"
      ]
     },
     "execution_count": 7,
     "metadata": {},
     "output_type": "execute_result"
    }
   ],
   "source": [
    "# check out the dataset\n",
    "largest_us_cities_df"
   ]
  },
  {
   "cell_type": "markdown",
   "id": "sticky-optimum",
   "metadata": {},
   "source": [
    "## 2. Find the Lat/Lon Coordinates of each City using the Google Maps Geocode API\n",
    "\n",
    "This will use the google maps \"geocode\" functionality to pull information for each city, including the pin location of each city. \n",
    "\n",
    "Note to do this you will need to generate your own personal API Key. "
   ]
  },
  {
   "cell_type": "code",
   "execution_count": 8,
   "id": "pleasant-muslim",
   "metadata": {},
   "outputs": [
    {
     "name": "stderr",
     "output_type": "stream",
     "text": [
      "/Users/cody/.local/share/virtualenvs/isochrone-d5Mthehx-python/lib/python3.6/site-packages/ipykernel_launcher.py:8: SettingWithCopyWarning: \n",
      "A value is trying to be set on a copy of a slice from a DataFrame\n",
      "\n",
      "See the caveats in the documentation: https://pandas.pydata.org/pandas-docs/stable/user_guide/indexing.html#returning-a-view-versus-a-copy\n",
      "  \n",
      "/Users/cody/.local/share/virtualenvs/isochrone-d5Mthehx-python/lib/python3.6/site-packages/ipykernel_launcher.py:14: SettingWithCopyWarning: \n",
      "A value is trying to be set on a copy of a slice from a DataFrame\n",
      "\n",
      "See the caveats in the documentation: https://pandas.pydata.org/pandas-docs/stable/user_guide/indexing.html#returning-a-view-versus-a-copy\n",
      "  \n"
     ]
    }
   ],
   "source": [
    "# loop through list of cities and find geo coordinates using Google Maps\n",
    "for row in range(0,len(largest_us_cities_list)):\n",
    "    geocode_result = gmaps.geocode(largest_us_cities_list[row])\n",
    "    largest_us_cities_df['lat'][row] = [\n",
    "                    (\n",
    "                        result[\"geometry\"][\"location\"][\"lat\"]\n",
    "                    )\n",
    "                    for result in geocode_result\n",
    "                ].pop()\n",
    "    largest_us_cities_df['lon'][row] = [\n",
    "                    (\n",
    "                        result[\"geometry\"][\"location\"][\"lng\"]\n",
    "                    )\n",
    "                    for result in geocode_result\n",
    "                ].pop()  "
   ]
  },
  {
   "cell_type": "code",
   "execution_count": 9,
   "id": "pleased-neighbor",
   "metadata": {},
   "outputs": [
    {
     "data": {
      "text/plain": [
       "[{'address_components': [{'long_name': 'Downtown',\n",
       "    'short_name': 'Downtown',\n",
       "    'types': ['neighborhood', 'political']},\n",
       "   {'long_name': 'Fort Lesley J. McNair',\n",
       "    'short_name': 'Fort Lesley J. McNair',\n",
       "    'types': ['political', 'sublocality', 'sublocality_level_1']},\n",
       "   {'long_name': 'Washington',\n",
       "    'short_name': 'Washington',\n",
       "    'types': ['locality', 'political']},\n",
       "   {'long_name': 'District of Columbia',\n",
       "    'short_name': 'DC',\n",
       "    'types': ['administrative_area_level_1', 'political']},\n",
       "   {'long_name': 'United States',\n",
       "    'short_name': 'US',\n",
       "    'types': ['country', 'political']}],\n",
       "  'formatted_address': 'Downtown, Washington, DC, USA',\n",
       "  'geometry': {'bounds': {'northeast': {'lat': 38.9096366, 'lng': -77.0239716},\n",
       "    'southwest': {'lat': 38.9001847, 'lng': -77.0496082}},\n",
       "   'location': {'lat': 38.9037406, 'lng': -77.0362967},\n",
       "   'location_type': 'APPROXIMATE',\n",
       "   'viewport': {'northeast': {'lat': 38.9096366, 'lng': -77.0239716},\n",
       "    'southwest': {'lat': 38.9001847, 'lng': -77.0496082}}},\n",
       "  'place_id': 'ChIJiz23A463t4kRflBNjGymua0',\n",
       "  'types': ['neighborhood', 'political']}]"
      ]
     },
     "execution_count": 9,
     "metadata": {},
     "output_type": "execute_result"
    }
   ],
   "source": [
    "# examine what a typical API Call looks like\n",
    "geocode_result"
   ]
  },
  {
   "cell_type": "code",
   "execution_count": 10,
   "id": "surface-begin",
   "metadata": {},
   "outputs": [
    {
     "data": {
      "text/html": [
       "<div>\n",
       "<style scoped>\n",
       "    .dataframe tbody tr th:only-of-type {\n",
       "        vertical-align: middle;\n",
       "    }\n",
       "\n",
       "    .dataframe tbody tr th {\n",
       "        vertical-align: top;\n",
       "    }\n",
       "\n",
       "    .dataframe thead th {\n",
       "        text-align: right;\n",
       "    }\n",
       "</style>\n",
       "<table border=\"1\" class=\"dataframe\">\n",
       "  <thead>\n",
       "    <tr style=\"text-align: right;\">\n",
       "      <th></th>\n",
       "      <th>city</th>\n",
       "      <th>lat</th>\n",
       "      <th>lon</th>\n",
       "    </tr>\n",
       "  </thead>\n",
       "  <tbody>\n",
       "    <tr>\n",
       "      <th>0</th>\n",
       "      <td>Downtown New York City, NY</td>\n",
       "      <td>40.720860</td>\n",
       "      <td>-74.000669</td>\n",
       "    </tr>\n",
       "    <tr>\n",
       "      <th>1</th>\n",
       "      <td>Downtown Los Angeles, CA</td>\n",
       "      <td>34.040713</td>\n",
       "      <td>-118.246769</td>\n",
       "    </tr>\n",
       "    <tr>\n",
       "      <th>2</th>\n",
       "      <td>Downtown Chicago, IL</td>\n",
       "      <td>41.875672</td>\n",
       "      <td>-87.624347</td>\n",
       "    </tr>\n",
       "    <tr>\n",
       "      <th>3</th>\n",
       "      <td>Downtown Houston, TX</td>\n",
       "      <td>29.755970</td>\n",
       "      <td>-95.357319</td>\n",
       "    </tr>\n",
       "    <tr>\n",
       "      <th>4</th>\n",
       "      <td>Downtown Phoenix, AZ</td>\n",
       "      <td>33.451717</td>\n",
       "      <td>-112.074464</td>\n",
       "    </tr>\n",
       "  </tbody>\n",
       "</table>\n",
       "</div>"
      ],
      "text/plain": [
       "                         city        lat         lon\n",
       "0  Downtown New York City, NY  40.720860  -74.000669\n",
       "1    Downtown Los Angeles, CA  34.040713 -118.246769\n",
       "2        Downtown Chicago, IL  41.875672  -87.624347\n",
       "3        Downtown Houston, TX  29.755970  -95.357319\n",
       "4        Downtown Phoenix, AZ  33.451717 -112.074464"
      ]
     },
     "execution_count": 10,
     "metadata": {},
     "output_type": "execute_result"
    }
   ],
   "source": [
    "# examine what the largest cities dataframe looks like:\n",
    "largest_us_cities_df.head()"
   ]
  },
  {
   "cell_type": "markdown",
   "id": "improved-happening",
   "metadata": {},
   "source": [
    "## 3. Calculate what a 60 Minute Isochrone from the downtown Pin Location using CARTO Isolines\n",
    "\n",
    "Isochrones are a way of measuring how much distance you can travel in all directions from a specific point given a fixed amount of time. This is a simple way of measuring how much traffic and roadway networks are availabile for each city. "
   ]
  },
  {
   "cell_type": "code",
   "execution_count": 11,
   "id": "juvenile-transcript",
   "metadata": {},
   "outputs": [],
   "source": [
    "# create a geo dataframe, this will create a \"geometry\" column for each city\n",
    "\n",
    "geo_df = gpd.GeoDataFrame(largest_us_cities_df, geometry=gpd.points_from_xy(largest_us_cities_df.lon, largest_us_cities_df.lat))\n"
   ]
  },
  {
   "cell_type": "code",
   "execution_count": 12,
   "id": "hydraulic-papua",
   "metadata": {},
   "outputs": [
    {
     "data": {
      "text/html": [
       "<div>\n",
       "<style scoped>\n",
       "    .dataframe tbody tr th:only-of-type {\n",
       "        vertical-align: middle;\n",
       "    }\n",
       "\n",
       "    .dataframe tbody tr th {\n",
       "        vertical-align: top;\n",
       "    }\n",
       "\n",
       "    .dataframe thead th {\n",
       "        text-align: right;\n",
       "    }\n",
       "</style>\n",
       "<table border=\"1\" class=\"dataframe\">\n",
       "  <thead>\n",
       "    <tr style=\"text-align: right;\">\n",
       "      <th></th>\n",
       "      <th>city</th>\n",
       "      <th>lat</th>\n",
       "      <th>lon</th>\n",
       "      <th>geometry</th>\n",
       "    </tr>\n",
       "  </thead>\n",
       "  <tbody>\n",
       "    <tr>\n",
       "      <th>0</th>\n",
       "      <td>Downtown New York City, NY</td>\n",
       "      <td>40.720860</td>\n",
       "      <td>-74.000669</td>\n",
       "      <td>POINT (-74.00067 40.72086)</td>\n",
       "    </tr>\n",
       "    <tr>\n",
       "      <th>1</th>\n",
       "      <td>Downtown Los Angeles, CA</td>\n",
       "      <td>34.040713</td>\n",
       "      <td>-118.246769</td>\n",
       "      <td>POINT (-118.24677 34.04071)</td>\n",
       "    </tr>\n",
       "    <tr>\n",
       "      <th>2</th>\n",
       "      <td>Downtown Chicago, IL</td>\n",
       "      <td>41.875672</td>\n",
       "      <td>-87.624347</td>\n",
       "      <td>POINT (-87.62435 41.87567)</td>\n",
       "    </tr>\n",
       "    <tr>\n",
       "      <th>3</th>\n",
       "      <td>Downtown Houston, TX</td>\n",
       "      <td>29.755970</td>\n",
       "      <td>-95.357319</td>\n",
       "      <td>POINT (-95.35732 29.75597)</td>\n",
       "    </tr>\n",
       "    <tr>\n",
       "      <th>4</th>\n",
       "      <td>Downtown Phoenix, AZ</td>\n",
       "      <td>33.451717</td>\n",
       "      <td>-112.074464</td>\n",
       "      <td>POINT (-112.07446 33.45172)</td>\n",
       "    </tr>\n",
       "  </tbody>\n",
       "</table>\n",
       "</div>"
      ],
      "text/plain": [
       "                         city        lat         lon  \\\n",
       "0  Downtown New York City, NY  40.720860  -74.000669   \n",
       "1    Downtown Los Angeles, CA  34.040713 -118.246769   \n",
       "2        Downtown Chicago, IL  41.875672  -87.624347   \n",
       "3        Downtown Houston, TX  29.755970  -95.357319   \n",
       "4        Downtown Phoenix, AZ  33.451717 -112.074464   \n",
       "\n",
       "                      geometry  \n",
       "0   POINT (-74.00067 40.72086)  \n",
       "1  POINT (-118.24677 34.04071)  \n",
       "2   POINT (-87.62435 41.87567)  \n",
       "3   POINT (-95.35732 29.75597)  \n",
       "4  POINT (-112.07446 33.45172)  "
      ]
     },
     "execution_count": 12,
     "metadata": {},
     "output_type": "execute_result"
    }
   ],
   "source": [
    "geo_df.head()"
   ]
  },
  {
   "cell_type": "code",
   "execution_count": 13,
   "id": "naked-poison",
   "metadata": {},
   "outputs": [
    {
     "name": "stdout",
     "output_type": "stream",
     "text": [
      "Success! Isolines created correctly\n"
     ]
    }
   ],
   "source": [
    "# pull isochrone data for car transportation for 60 minutes (3600 seconds)\n",
    "isochrones_gdf, isochrones_metadata = iso_service.isochrones(geo_df, [3600], mode='car')"
   ]
  },
  {
   "cell_type": "code",
   "execution_count": 14,
   "id": "elementary-motivation",
   "metadata": {},
   "outputs": [],
   "source": [
    "# calculate the area of each isochrone by converting to the correct map projection and converting from SQ M to SQ KM\n",
    "\n",
    "isochrones_gdf['city'] = largest_us_cities_df['city']\n",
    "isochrones_gdf['pin_location'] = geo_df['geometry']\n",
    "isochrones_gdf['geometry'] = isochrones_gdf.the_geom\n",
    "\n",
    "isochrones_gdf['the_geom_crs'] = isochrones_gdf.the_geom.to_crs({'proj':'cea'}) \n",
    "isochrones_gdf['area_sq_km'] = isochrones_gdf.the_geom_crs.area / 10**6\n",
    "\n",
    "# rank the cities from largest to smallest in terms of shape size\n",
    "isochrones_gdf['area_rank'] = isochrones_gdf['area_sq_km'].rank(ascending=False)"
   ]
  },
  {
   "cell_type": "code",
   "execution_count": 15,
   "id": "decimal-jacksonville",
   "metadata": {},
   "outputs": [
    {
     "data": {
      "text/html": [
       "<div>\n",
       "<style scoped>\n",
       "    .dataframe tbody tr th:only-of-type {\n",
       "        vertical-align: middle;\n",
       "    }\n",
       "\n",
       "    .dataframe tbody tr th {\n",
       "        vertical-align: top;\n",
       "    }\n",
       "\n",
       "    .dataframe thead th {\n",
       "        text-align: right;\n",
       "    }\n",
       "</style>\n",
       "<table border=\"1\" class=\"dataframe\">\n",
       "  <thead>\n",
       "    <tr style=\"text-align: right;\">\n",
       "      <th></th>\n",
       "      <th>source_id</th>\n",
       "      <th>data_range</th>\n",
       "      <th>the_geom</th>\n",
       "      <th>city</th>\n",
       "      <th>pin_location</th>\n",
       "      <th>geometry</th>\n",
       "      <th>the_geom_crs</th>\n",
       "      <th>area_sq_km</th>\n",
       "      <th>area_rank</th>\n",
       "    </tr>\n",
       "  </thead>\n",
       "  <tbody>\n",
       "    <tr>\n",
       "      <th>0</th>\n",
       "      <td>0</td>\n",
       "      <td>3600</td>\n",
       "      <td>MULTIPOLYGON (((-74.89243 40.64941, -74.86084 ...</td>\n",
       "      <td>Downtown New York City, NY</td>\n",
       "      <td>POINT (-74.00067 40.72086)</td>\n",
       "      <td>MULTIPOLYGON (((-74.89243 40.64941, -74.86084 ...</td>\n",
       "      <td>MULTIPOLYGON (((-8336986.671 4134923.896, -833...</td>\n",
       "      <td>5247.333500</td>\n",
       "      <td>18.0</td>\n",
       "    </tr>\n",
       "    <tr>\n",
       "      <th>1</th>\n",
       "      <td>1</td>\n",
       "      <td>3600</td>\n",
       "      <td>MULTIPOLYGON (((-118.92563 34.18945, -118.9187...</td>\n",
       "      <td>Downtown Los Angeles, CA</td>\n",
       "      <td>POINT (-118.24677 34.04071)</td>\n",
       "      <td>MULTIPOLYGON (((-118.92563 34.18945, -118.9187...</td>\n",
       "      <td>MULTIPOLYGON (((-13238740.429 3565107.098, -13...</td>\n",
       "      <td>6755.909881</td>\n",
       "      <td>13.0</td>\n",
       "    </tr>\n",
       "    <tr>\n",
       "      <th>2</th>\n",
       "      <td>2</td>\n",
       "      <td>3600</td>\n",
       "      <td>MULTIPOLYGON (((-88.52646 41.86890, -88.51959 ...</td>\n",
       "      <td>Downtown Chicago, IL</td>\n",
       "      <td>POINT (-87.62435 41.87567)</td>\n",
       "      <td>MULTIPOLYGON (((-88.52646 41.86890, -88.51959 ...</td>\n",
       "      <td>MULTIPOLYGON (((-9854720.304 4236881.164, -985...</td>\n",
       "      <td>5461.113932</td>\n",
       "      <td>17.0</td>\n",
       "    </tr>\n",
       "    <tr>\n",
       "      <th>3</th>\n",
       "      <td>3</td>\n",
       "      <td>3600</td>\n",
       "      <td>MULTIPOLYGON (((-96.23749 29.77295, -96.21826 ...</td>\n",
       "      <td>Downtown Houston, TX</td>\n",
       "      <td>POINT (-95.35732 29.75597)</td>\n",
       "      <td>MULTIPOLYGON (((-96.23749 29.77295, -96.21826 ...</td>\n",
       "      <td>MULTIPOLYGON (((-10713108.137 3149419.545, -10...</td>\n",
       "      <td>12817.067467</td>\n",
       "      <td>4.0</td>\n",
       "    </tr>\n",
       "    <tr>\n",
       "      <th>4</th>\n",
       "      <td>4</td>\n",
       "      <td>3600</td>\n",
       "      <td>MULTIPOLYGON (((-113.11249 33.55225, -113.0987...</td>\n",
       "      <td>Downtown Phoenix, AZ</td>\n",
       "      <td>POINT (-112.07446 33.45172)</td>\n",
       "      <td>MULTIPOLYGON (((-113.11249 33.55225, -113.0987...</td>\n",
       "      <td>MULTIPOLYGON (((-12591624.544 3506361.778, -12...</td>\n",
       "      <td>9308.110165</td>\n",
       "      <td>10.0</td>\n",
       "    </tr>\n",
       "  </tbody>\n",
       "</table>\n",
       "</div>"
      ],
      "text/plain": [
       "   source_id  data_range                                           the_geom  \\\n",
       "0          0        3600  MULTIPOLYGON (((-74.89243 40.64941, -74.86084 ...   \n",
       "1          1        3600  MULTIPOLYGON (((-118.92563 34.18945, -118.9187...   \n",
       "2          2        3600  MULTIPOLYGON (((-88.52646 41.86890, -88.51959 ...   \n",
       "3          3        3600  MULTIPOLYGON (((-96.23749 29.77295, -96.21826 ...   \n",
       "4          4        3600  MULTIPOLYGON (((-113.11249 33.55225, -113.0987...   \n",
       "\n",
       "                         city                 pin_location  \\\n",
       "0  Downtown New York City, NY   POINT (-74.00067 40.72086)   \n",
       "1    Downtown Los Angeles, CA  POINT (-118.24677 34.04071)   \n",
       "2        Downtown Chicago, IL   POINT (-87.62435 41.87567)   \n",
       "3        Downtown Houston, TX   POINT (-95.35732 29.75597)   \n",
       "4        Downtown Phoenix, AZ  POINT (-112.07446 33.45172)   \n",
       "\n",
       "                                            geometry  \\\n",
       "0  MULTIPOLYGON (((-74.89243 40.64941, -74.86084 ...   \n",
       "1  MULTIPOLYGON (((-118.92563 34.18945, -118.9187...   \n",
       "2  MULTIPOLYGON (((-88.52646 41.86890, -88.51959 ...   \n",
       "3  MULTIPOLYGON (((-96.23749 29.77295, -96.21826 ...   \n",
       "4  MULTIPOLYGON (((-113.11249 33.55225, -113.0987...   \n",
       "\n",
       "                                        the_geom_crs    area_sq_km  area_rank  \n",
       "0  MULTIPOLYGON (((-8336986.671 4134923.896, -833...   5247.333500       18.0  \n",
       "1  MULTIPOLYGON (((-13238740.429 3565107.098, -13...   6755.909881       13.0  \n",
       "2  MULTIPOLYGON (((-9854720.304 4236881.164, -985...   5461.113932       17.0  \n",
       "3  MULTIPOLYGON (((-10713108.137 3149419.545, -10...  12817.067467        4.0  \n",
       "4  MULTIPOLYGON (((-12591624.544 3506361.778, -12...   9308.110165       10.0  "
      ]
     },
     "execution_count": 15,
     "metadata": {},
     "output_type": "execute_result"
    }
   ],
   "source": [
    "isochrones_gdf.head()"
   ]
  },
  {
   "cell_type": "code",
   "execution_count": 16,
   "id": "seeing-substitute",
   "metadata": {},
   "outputs": [],
   "source": [
    "# save the file to .csv to avoid future API calls\n",
    "isochrones_gdf.to_csv('isochrones_gdf.csv')"
   ]
  },
  {
   "cell_type": "markdown",
   "id": "acceptable-bonus",
   "metadata": {},
   "source": [
    "## 4. Visualize the Data in Kepler\n",
    "\n",
    "Note that Kepler is a personal choice, CARTO, Google, and many other ways to display data on maps :). "
   ]
  },
  {
   "cell_type": "code",
   "execution_count": 17,
   "id": "expanded-designation",
   "metadata": {},
   "outputs": [],
   "source": [
    "geo_df_kepler = gpd.GeoDataFrame(isochrones_gdf, geometry=isochrones_gdf.the_geom)"
   ]
  },
  {
   "cell_type": "code",
   "execution_count": 18,
   "id": "eleven-questionnaire",
   "metadata": {},
   "outputs": [],
   "source": [
    "geo_df_kepler.drop(['the_geom_crs','the_geom','pin_location'],axis=1,inplace=True)"
   ]
  },
  {
   "cell_type": "code",
   "execution_count": 19,
   "id": "based-brick",
   "metadata": {},
   "outputs": [],
   "source": [
    "import kepler_config"
   ]
  },
  {
   "cell_type": "code",
   "execution_count": 20,
   "id": "executed-video",
   "metadata": {
    "scrolled": false
   },
   "outputs": [
    {
     "name": "stdout",
     "output_type": "stream",
     "text": [
      "User Guide: https://docs.kepler.gl/docs/keplergl-jupyter\n"
     ]
    },
    {
     "data": {
      "application/vnd.jupyter.widget-view+json": {
       "model_id": "0cf3a12dd1a541b2b6a2d7e0ef4d9569",
       "version_major": 2,
       "version_minor": 0
      },
      "text/plain": [
       "KeplerGl(config={'version': 'v1', 'config': {'visState': {'filters': [], 'layers': [{'id': 'odjlmao', 'type': …"
      ]
     },
     "metadata": {},
     "output_type": "display_data"
    }
   ],
   "source": [
    "# Map the different shapes in Kepler\n",
    "kepler_map = keplergl.KeplerGl(height=800)\n",
    "kepler_map.add_data(data = geo_df_kepler, name = 'US City Isochrones')\n",
    "kepler_map.config = kepler_config.kepler_config\n",
    "\n",
    "kepler_map"
   ]
  },
  {
   "cell_type": "markdown",
   "id": "indian-affiliate",
   "metadata": {},
   "source": [
    "Scrolling through the map you can clearly see that cities in Texas have much larger distances in which you can travel in 60 minutes. Cities near large bodies of water like Chicago, Seattle, and San Diego natrually have smaller shapes because of their location (cannot drive in all directions)."
   ]
  },
  {
   "cell_type": "code",
   "execution_count": 21,
   "id": "composite-tourism",
   "metadata": {},
   "outputs": [],
   "source": [
    "# save kepler config file to save visualization settings\n",
    "kepler_config = kepler_map.config"
   ]
  },
  {
   "cell_type": "code",
   "execution_count": 22,
   "id": "sporting-christianity",
   "metadata": {},
   "outputs": [
    {
     "name": "stdout",
     "output_type": "stream",
     "text": [
      "Map saved to US_City_Isochrones.html!\n"
     ]
    }
   ],
   "source": [
    "#save map\n",
    "kepler_map.save_to_html(file_name='US_City_Isochrones.html')"
   ]
  }
 ],
 "metadata": {
  "kernelspec": {
   "display_name": "Python 3",
   "language": "python",
   "name": "python3"
  },
  "language_info": {
   "codemirror_mode": {
    "name": "ipython",
    "version": 3
   },
   "file_extension": ".py",
   "mimetype": "text/x-python",
   "name": "python",
   "nbconvert_exporter": "python",
   "pygments_lexer": "ipython3",
   "version": "3.6.9"
  }
 },
 "nbformat": 4,
 "nbformat_minor": 5
}
